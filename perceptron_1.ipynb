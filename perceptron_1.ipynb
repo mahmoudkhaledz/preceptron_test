{
  "nbformat": 4,
  "nbformat_minor": 0,
  "metadata": {
    "colab": {
      "name": "perceptron_1.ipynb",
      "provenance": [],
      "authorship_tag": "ABX9TyPDlBIKsk2izOCWIhEp5Wi9",
      "include_colab_link": true
    },
    "kernelspec": {
      "name": "python379jvsc74a57bd097ae724bfa85b9b34df7982b8bb8c7216f435b92902d749e4263f71162bea840",
      "display_name": "Python 3.7.9 64-bit ('base': conda)"
    },
    "language_info": {
      "name": "python",
      "version": "3.7.9"
    },
    "accelerator": "GPU"
  },
  "cells": [
    {
      "cell_type": "markdown",
      "metadata": {
        "id": "view-in-github",
        "colab_type": "text"
      },
      "source": [
        "<a href=\"https://colab.research.google.com/github/Abdel-rahim/preceptron_test/blob/main/perceptron_1.ipynb\" target=\"_parent\"><img src=\"https://colab.research.google.com/assets/colab-badge.svg\" alt=\"Open In Colab\"/></a>"
      ]
    },
    {
      "cell_type": "code",
      "metadata": {
        "id": "iV6SuazrqHr-"
      },
      "source": [
        "# import the necessary packages\n",
        "import numpy as np\n",
        "\n",
        "class Perceptron:\n",
        "  def __init__(self, N, alpha=0.1):\n",
        "    # initialize the weight matrix and store the learning rate N for input and one for bias\n",
        "    self.W = np.random.randn(N + 1) / np.sqrt(N)  \n",
        "    self.alpha = alpha\n",
        "    \n",
        "  def step(self, x):\n",
        "    # apply the step function\n",
        "    return 1 if x > 0 else 0\n",
        "\n",
        "  def fit(self, X, y, epochs=10):\n",
        "    # insert a column of 1’s as the last entry in the feature\n",
        "    # matrix -- this little trick allows us to treat the bias\n",
        "    # as a trainable parameter within the weight matrix\n",
        "    X = np.c_[X, np.ones((X.shape[0]))]\n",
        "\n",
        "    # loop over the desired number of epochs\n",
        "    for epoch in np.arange(0, epochs):\n",
        "      # loop over each individual data point\n",
        "      for (x, target) in zip(X, y):\n",
        "        # take the dot product between the input features\n",
        "        # and the weight matrix, then pass this value\n",
        "        # through the step function to obtain the prediction\n",
        "        p = self.step(np.dot(x, self.W))\n",
        "          \n",
        "        # only perform a weight update if our prediction\n",
        "        # does not match the target\n",
        "        if p != target:\n",
        "          # determine the error\n",
        "          error = p - target\n",
        "          # update the weight matrix\n",
        "          self.W += -self.alpha * error * x\n",
        "\n",
        "  def predict(self, X, addBias=True):\n",
        "    # ensure our input is a matrix\n",
        "    X = np.atleast_2d(X)\n",
        "      \n",
        "    # check to see if the bias column should be added\n",
        "    if addBias:\n",
        "      # insert a column of 1’s as the last entry in the feature\n",
        "      # matrix (bias)\n",
        "      X = np.c_[X, np.ones((X.shape[0]))]\n",
        "          \n",
        "      # take the dot product between the input features and the\n",
        "      # weight matrix, then pass the value through the step\n",
        "      # function\n",
        "      return self.step(np.dot(X, self.W))"
      ],
      "execution_count": 1,
      "outputs": []
    },
    {
      "cell_type": "code",
      "metadata": {
        "colab": {
          "base_uri": "https://localhost:8080/"
        },
        "id": "tZVo_WbiybMh",
        "outputId": "f1dc5bd6-c124-4636-9141-7a2a9db254dd"
      },
      "source": [
        "# import the necessary packages\n",
        "# import numpy as np\n",
        "\n",
        "# construct the OR dataset\n",
        "X = np.array([[0, 0], [0, 1], [1, 0], [1, 1]])\n",
        "y = np.array([[0], [1], [1], [1]])\n",
        "\n",
        "# define our perceptron and train it\n",
        "print(\"[INFO] training perceptron...\")\n",
        "p = Perceptron(X.shape[1], alpha=0.1)\n",
        "p.fit(X, y, epochs=20)"
      ],
      "execution_count": 2,
      "outputs": [
        {
          "output_type": "stream",
          "name": "stdout",
          "text": [
            "[INFO] training perceptron...\n"
          ]
        }
      ]
    },
    {
      "cell_type": "code",
      "metadata": {
        "colab": {
          "base_uri": "https://localhost:8080/"
        },
        "id": "u498GDd454K3",
        "outputId": "fce79103-6e61-48a5-c40d-df8e131d294b"
      },
      "source": [
        "# now that our perceptron is trained we can evaluate it\n",
        "print(\"[INFO] testing perceptron...\")\n",
        "\n",
        "# now that our network is trained, loop over the data points\n",
        "for (x, target) in zip(X, y):\n",
        "  # make a prediction on the data point and display the result\n",
        "  # to our console\n",
        "  pred = p.predict(x)\n",
        "  print(\"[INFO] data={}, ground-truth={}, pred={}\".format(x, target[0], pred))"
      ],
      "execution_count": 3,
      "outputs": [
        {
          "output_type": "stream",
          "name": "stdout",
          "text": [
            "[INFO] testing perceptron...\n[INFO] data=[0 0], ground-truth=0, pred=0\n[INFO] data=[0 1], ground-truth=1, pred=1\n[INFO] data=[1 0], ground-truth=1, pred=1\n[INFO] data=[1 1], ground-truth=1, pred=1\n"
          ]
        }
      ]
    },
    {
      "cell_type": "code",
      "metadata": {
        "colab": {
          "base_uri": "https://localhost:8080/"
        },
        "id": "W-PErebzuKrl",
        "outputId": "ba95e656-8aae-48bd-a176-542cbd7ec156"
      },
      "source": [
        "# AND\n",
        "# construct the AND dataset\n",
        "X = np.array([[0, 0], [0, 1], [1, 0], [1, 1]])\n",
        "y = np.array([[0], [0], [0], [1]])\n",
        "\n",
        "# define our perceptron and train it\n",
        "print(\"[INFO] training perceptron...\")\n",
        "p = Perceptron(X.shape[1], alpha=0.1)\n",
        "p.fit(X, y, epochs=20)\n",
        "# now that our perceptron is trained we can evaluate it\n",
        "print(\"[INFO] testing perceptron...\")\n",
        "\n",
        "# now that our network is trained, loop over the data points\n",
        "for (x, target) in zip(X, y):\n",
        "    # make a prediction on the data point and display the result\n",
        "    # to our console\n",
        "    pred = p.predict(x)\n",
        "    print(\"[INFO] data={}, ground-truth={}, pred={}\".format(x, target[0], pred))"
      ],
      "execution_count": 4,
      "outputs": [
        {
          "output_type": "stream",
          "text": [
            "[INFO] training perceptron...\n",
            "[INFO] testing perceptron...\n",
            "[INFO] data=[0 0], ground-truth=0, pred=0\n",
            "[INFO] data=[0 1], ground-truth=0, pred=0\n",
            "[INFO] data=[1 0], ground-truth=0, pred=0\n",
            "[INFO] data=[1 1], ground-truth=1, pred=1\n"
          ],
          "name": "stdout"
        }
      ]
    },
    {
      "cell_type": "code",
      "metadata": {
        "colab": {
          "base_uri": "https://localhost:8080/"
        },
        "id": "OC5fG9m8uMD2",
        "outputId": "f9a44d9b-2995-43ec-e424-dad0397a2a27"
      },
              
      "source": [
        "# construct the XOR dataset\n",
        "X = np.array([[0, 0], [0, 1], [1, 0], [1, 1]])\n",
        "y = np.array([[0], [1], [1], [0]])\n",
        "# define our perceptron and train it\n",
        "print(\"[INFO] training perceptron...\")\n",
        "p = Perceptron(X.shape[1], alpha=0.1)\n",
        "p.fit(X, y, epochs=20)\n",
        "\n",
        "# now that our perceptron is trained we can evaluate it\n",
        "print(\"[INFO] testing perceptron...\")\n",
        "\n",
        "# now that our network is trained, loop over the data points\n",
        "for (x, target) in zip(X, y):\n",
        "    # make a prediction on the data point and display the result\n",
        "    # to our console\n",
        "    pred = p.predict(x)\n",
        "    print(\"[INFO] data={}, ground-truth={}, pred={}\".format(x, target[0], pred))\n"
      ],
      "execution_count": 5,
      "outputs": [
        {
          "output_type": "stream",
          "text": [
            "[INFO] training perceptron...\n",
            "[INFO] testing perceptron...\n",
            "[INFO] data=[0 0], ground-truth=0, pred=1\n",
            "[INFO] data=[0 1], ground-truth=1, pred=0\n",
            "[INFO] data=[1 0], ground-truth=1, pred=0\n",
            "[INFO] data=[1 1], ground-truth=0, pred=0\n"
          ],
          "name": "stdout"
        }
      ]
    }
  ]
}
/*
"source": [
        "# NAND\n",
        "# construct the AND dataset\n",
        "A = np.array([[1, 1], [1, 0], [0, 0], [0, 1]])\n",
        "b = np.array([[0], [1], [1], [1]])\n",
        "print(\"[INFO] training perceptron...\")\n",
        "p = Perceptron(A.shape[1], alpha=0.1)\n",
        "p.fit(A, b, epochs=20)\n",
        "print(\"[INFO] testing perceptron...\")\n"
        "for (x, target) in zip(A, b):\n",
        "    pred = p.predict(x)\n",
        "    print(\"[INFO] data={}, ground-truth={}, pred={}\".format(x, target[0], pred))
